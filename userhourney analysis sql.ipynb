{
 "cells": [
  {
   "cell_type": "code",
   "execution_count": 3,
   "metadata": {},
   "outputs": [
    {
     "name": "stdout",
     "output_type": "stream",
     "text": [
      "Defaulting to user installation because normal site-packages is not writeable\n",
      "Requirement already satisfied: pandas in c:\\users\\nurec\\appdata\\roaming\\python\\python312\\site-packages (2.2.2)\n",
      "Requirement already satisfied: mysql-connector-python in c:\\users\\nurec\\appdata\\roaming\\python\\python312\\site-packages (9.1.0)\n",
      "Requirement already satisfied: numpy>=1.26.0 in c:\\users\\nurec\\appdata\\roaming\\python\\python312\\site-packages (from pandas) (2.1.0)\n",
      "Requirement already satisfied: python-dateutil>=2.8.2 in c:\\users\\nurec\\appdata\\roaming\\python\\python312\\site-packages (from pandas) (2.9.0.post0)\n",
      "Requirement already satisfied: pytz>=2020.1 in c:\\users\\nurec\\appdata\\roaming\\python\\python312\\site-packages (from pandas) (2024.1)\n",
      "Requirement already satisfied: tzdata>=2022.7 in c:\\users\\nurec\\appdata\\roaming\\python\\python312\\site-packages (from pandas) (2024.1)\n",
      "Requirement already satisfied: six>=1.5 in c:\\users\\nurec\\appdata\\roaming\\python\\python312\\site-packages (from python-dateutil>=2.8.2->pandas) (1.16.0)\n",
      "Note: you may need to restart the kernel to use updated packages.\n"
     ]
    }
   ],
   "source": [
    "pip install pandas mysql-connector-python\n"
   ]
  },
  {
   "cell_type": "code",
   "execution_count": 4,
   "metadata": {},
   "outputs": [],
   "source": [
    "import mysql.connector\n",
    "import pandas as pd"
   ]
  },
  {
   "cell_type": "code",
   "execution_count": 5,
   "metadata": {},
   "outputs": [],
   "source": [
    "connection = mysql.connector.connect(\n",
    "    host=\"localhost\",        # Your MySQL host, typically \"localhost\"\n",
    "    user=\"root\",             # Replace with your MySQL username (default is \"root\")\n",
    "    password=\"@Nikhil85700\", # Your MySQL password\n",
    "    database=\"user_journey_data\"  # Replace with the name of your database\n",
    ")\n"
   ]
  },
  {
   "cell_type": "code",
   "execution_count": 6,
   "metadata": {},
   "outputs": [
    {
     "name": "stdout",
     "output_type": "stream",
     "text": [
      "Successfully connected to the database!\n"
     ]
    }
   ],
   "source": [
    "if connection.is_connected():\n",
    "    print(\"Successfully connected to the database!\")"
   ]
  },
  {
   "cell_type": "code",
   "execution_count": 7,
   "metadata": {},
   "outputs": [
    {
     "name": "stderr",
     "output_type": "stream",
     "text": [
      "C:\\Users\\nurec\\AppData\\Local\\Temp\\ipykernel_6616\\1353736344.py:4: UserWarning: pandas only supports SQLAlchemy connectable (engine/connection) or database string URI or sqlite3 DBAPI2 connection. Other DBAPI2 objects are not tested. Please consider using SQLAlchemy.\n",
      "  df = pd.read_sql(query, connection)\n"
     ]
    },
    {
     "name": "stdout",
     "output_type": "stream",
     "text": [
      "   visitor_id   user_id\n",
      "0         193       NaN\n",
      "1         203  274127.0\n",
      "2         245  168785.0\n",
      "3         277  242454.0\n",
      "4         310  253829.0\n"
     ]
    }
   ],
   "source": [
    "query = \"SELECT * FROM front_visitors;\"\n",
    "\n",
    "# Execute the query and load data into a DataFrame\n",
    "df = pd.read_sql(query, connection)\n",
    "\n",
    "# Display the first few rows of the DataFrame\n",
    "print(df.head())"
   ]
  },
  {
   "cell_type": "code",
   "execution_count": 8,
   "metadata": {},
   "outputs": [
    {
     "name": "stdout",
     "output_type": "stream",
     "text": [
      "   visitor_id  session_id                                   event_source_url  \\\n",
      "0     1076404     2801930  https://365datascience.com/login/?redirectUrl=...   \n",
      "1     1076404     2801930  https://365datascience.com/login/?redirectUrl=...   \n",
      "2      494069     2801929                  https://365datascience.com/login/   \n",
      "3     1076404     2801930  https://365datascience.com/login/?redirectUrl=...   \n",
      "4      494069     2801929                  https://365datascience.com/login/   \n",
      "\n",
      "                               event_destination_url          event_date  \\\n",
      "0  https://365datascience.com/login/?redirectUrl=... 2022-12-01 00:00:07   \n",
      "1  https://365datascience.com/login/?redirectUrl=... 2022-12-01 00:00:09   \n",
      "2                  https://365datascience.com/login/ 2022-12-01 00:00:14   \n",
      "3  https://365datascience.com/login/?redirectUrl=... 2022-12-01 00:00:14   \n",
      "4                  https://365datascience.com/login/ 2022-12-01 00:00:16   \n",
      "\n",
      "                  event_name  \n",
      "0          login_email.click  \n",
      "1       login_password.click  \n",
      "2          login_email.click  \n",
      "3  login_login.click.success  \n",
      "4       login_password.click  \n"
     ]
    },
    {
     "name": "stderr",
     "output_type": "stream",
     "text": [
      "C:\\Users\\nurec\\AppData\\Local\\Temp\\ipykernel_6616\\4269377679.py:3: UserWarning: pandas only supports SQLAlchemy connectable (engine/connection) or database string URI or sqlite3 DBAPI2 connection. Other DBAPI2 objects are not tested. Please consider using SQLAlchemy.\n",
      "  df = pd.read_sql(query, connection)\n"
     ]
    }
   ],
   "source": [
    "# Query to explore the 'front_interactions' table\n",
    "query = \"SELECT * FROM front_interactions LIMIT 10;\"\n",
    "df = pd.read_sql(query, connection)\n",
    "print(df.head())\n"
   ]
  },
  {
   "cell_type": "code",
   "execution_count": 9,
   "metadata": {},
   "outputs": [
    {
     "name": "stderr",
     "output_type": "stream",
     "text": [
      "C:\\Users\\nurec\\AppData\\Local\\Temp\\ipykernel_6616\\1318497712.py:2: UserWarning: pandas only supports SQLAlchemy connectable (engine/connection) or database string URI or sqlite3 DBAPI2 connection. Other DBAPI2 objects are not tested. Please consider using SQLAlchemy.\n",
      "  df = pd.read_sql(query, connection)\n"
     ]
    },
    {
     "name": "stdout",
     "output_type": "stream",
     "text": [
      "   total_interactions\n",
      "0             1625367\n"
     ]
    }
   ],
   "source": [
    "\n",
    "query = \"SELECT COUNT(*) AS total_interactions FROM front_interactions;\"\n",
    "df = pd.read_sql(query, connection)\n",
    "print(df)\n"
   ]
  },
  {
   "cell_type": "markdown",
   "metadata": {},
   "source": [
    "### Purpose\n",
    "This query counts the total number of interactions recorded in the front_interactions table. Each record in this table corresponds to a unique event or interaction on the website, such as clicking a button or scrolling a page.\n",
    "\n",
    "### Output\n",
    "The query returned 1,625,367, which means there are 1,625,367 interactions recorded in the database.\n",
    "\n",
    "### Key Insights\n",
    "This gives us a baseline understanding of the scale of user activity logged on the platform.\n",
    "We can use this total number to calculate percentages and analyze interaction patterns in later steps."
   ]
  },
  {
   "cell_type": "code",
   "execution_count": 10,
   "metadata": {},
   "outputs": [
    {
     "name": "stderr",
     "output_type": "stream",
     "text": [
      "C:\\Users\\nurec\\AppData\\Local\\Temp\\ipykernel_6616\\3312380275.py:2: UserWarning: pandas only supports SQLAlchemy connectable (engine/connection) or database string URI or sqlite3 DBAPI2 connection. Other DBAPI2 objects are not tested. Please consider using SQLAlchemy.\n",
      "  df = pd.read_sql(query, connection)\n"
     ]
    },
    {
     "name": "stdout",
     "output_type": "stream",
     "text": [
      "   unique_visitors\n",
      "0           245562\n"
     ]
    }
   ],
   "source": [
    "query = \"SELECT COUNT(DISTINCT visitor_id) AS unique_visitors FROM front_interactions;\"\n",
    "df = pd.read_sql(query, connection)\n",
    "print(df)\n"
   ]
  },
  {
   "cell_type": "markdown",
   "metadata": {},
   "source": [
    "### Purpose\n",
    "This query calculates the total number of unique visitors who interacted with the website. The DISTINCT keyword ensures that each visitor_id is only counted once, even if they have multiple interactions recorded in the front_interactions table.\n",
    "\n",
    "### Key Insights\n",
    "The count of unique visitors provides insight into the total reach of the website within the dataset's timeframe.\n",
    "Comparing this number with the total number of interactions can help analyze visitor engagement. For example:\n",
    "A high ratio of interactions to visitors indicates high engagement.\n",
    "A low ratio suggests limited activity per visitor.\n"
   ]
  },
  {
   "cell_type": "code",
   "execution_count": 11,
   "metadata": {},
   "outputs": [
    {
     "name": "stderr",
     "output_type": "stream",
     "text": [
      "C:\\Users\\nurec\\AppData\\Local\\Temp\\ipykernel_6616\\3248658482.py:8: UserWarning: pandas only supports SQLAlchemy connectable (engine/connection) or database string URI or sqlite3 DBAPI2 connection. Other DBAPI2 objects are not tested. Please consider using SQLAlchemy.\n",
      "  df = pd.read_sql(query, connection)\n"
     ]
    },
    {
     "name": "stdout",
     "output_type": "stream",
     "text": [
      "                   event_name  event_count\n",
      "0           login_email.click       145626\n",
      "1   login_login.click.success       133318\n",
      "2        login_password.click       108249\n",
      "3           home_log_in.click        56994\n",
      "4  login_google.click.success        49271\n",
      "5         signup_policy.click        48343\n",
      "6           signup_name.click        41694\n",
      "7      login_rememberme.click        35613\n",
      "8      login_login.click.fail        33956\n",
      "9       signup_password.click        31985\n"
     ]
    }
   ],
   "source": [
    "query = \"\"\"\n",
    "SELECT event_name, COUNT(*) AS event_count\n",
    "FROM front_interactions\n",
    "GROUP BY event_name\n",
    "ORDER BY event_count DESC\n",
    "LIMIT 10;\n",
    "\"\"\"\n",
    "df = pd.read_sql(query, connection)\n",
    "print(df)\n"
   ]
  },
  {
   "cell_type": "markdown",
   "metadata": {},
   "source": [
    "### Purpose\n",
    "This query identifies the most common event types logged in the front_interactions table. By grouping the data by event_name, we count how frequently each event type occurs. The result is ordered in descending order of event frequency to highlight the top 10 most frequent events.\n",
    "\n",
    "### Key Insights\n",
    "Most Frequent Events: The login_email.click and login_login.click.success events are the most frequent, suggesting a high level of user interaction with the login form.\n",
    "Successful Login Events: The count of login_login.click.success (133,318) indicates the number of users who successfully logged in.\n",
    "#### Login Issues: \n",
    "There are also 33,956 occurrences of login_login.click.fail, which may indicate login issues that warrant further investigation.\n",
    "Sign-Up Interactions: Events like signup_policy.click and signup_name.click show significant activity in the user registration process."
   ]
  },
  {
   "cell_type": "code",
   "execution_count": 12,
   "metadata": {},
   "outputs": [
    {
     "name": "stderr",
     "output_type": "stream",
     "text": [
      "C:\\Users\\nurec\\AppData\\Local\\Temp\\ipykernel_6616\\4104561452.py:8: UserWarning: pandas only supports SQLAlchemy connectable (engine/connection) or database string URI or sqlite3 DBAPI2 connection. Other DBAPI2 objects are not tested. Please consider using SQLAlchemy.\n",
      "  df = pd.read_sql(query, connection)\n"
     ]
    },
    {
     "name": "stdout",
     "output_type": "stream",
     "text": [
      "                                    event_source_url  \\\n",
      "0                  https://365datascience.com/login/   \n",
      "1                 https://365datascience.com/signup/   \n",
      "2                https://365datascience.com/courses/   \n",
      "3  https://365datascience.com/login/?redirectUrl=...   \n",
      "4             https://365financialanalyst.com/login/   \n",
      "5                        https://365datascience.com/   \n",
      "6                        https://365datascience.com/   \n",
      "7  https://365datascience.com/career-track-certif...   \n",
      "8                        https://365datascience.com/   \n",
      "9     https://365datascience.com/course-certificate/   \n",
      "\n",
      "                               event_destination_url  event_count  \n",
      "0                  https://365datascience.com/login/       222497  \n",
      "1                 https://365datascience.com/signup/       168891  \n",
      "2                https://365datascience.com/courses/        78091  \n",
      "3  https://365datascience.com/login/?redirectUrl=...        72272  \n",
      "4             https://365financialanalyst.com/login/        59551  \n",
      "5                  https://365datascience.com/login/        50747  \n",
      "6                        https://365datascience.com/        49234  \n",
      "7  https://365datascience.com/career-track-certif...        36960  \n",
      "8                 https://365datascience.com/signup/        33593  \n",
      "9     https://365datascience.com/course-certificate/        21123  \n"
     ]
    }
   ],
   "source": [
    "query = \"\"\"\n",
    "SELECT event_source_url, event_destination_url, COUNT(*) AS event_count\n",
    "FROM front_interactions\n",
    "GROUP BY event_source_url, event_destination_url\n",
    "ORDER BY event_count DESC\n",
    "LIMIT 10;\n",
    "\"\"\"\n",
    "df = pd.read_sql(query, connection)\n",
    "print(df)\n"
   ]
  },
  {
   "cell_type": "markdown",
   "metadata": {},
   "source": [
    "### Purpose\n",
    "This query examines the relationship between source URLs (where an event originated) and destination URLs (where the event led). It provides the top 10 most frequent transitions between pages/events by counting how many interactions occurred for each source-destination pair.\n",
    "\n",
    "\n",
    "### Key Insights\n",
    "\n",
    "\n",
    "High Traffic Between Login and Signup Pages:\n",
    "\n",
    "The transition from https://365datascience.com/login/ to https://365datascience.com/signup/ is the most frequent (222,497 interactions).\n",
    "Similarly, many users transition back from the signup page to the login page (168,991 interactions). This suggests significant traffic between account creation and login functionalities.\n",
    "Courses Page Engagement:\n",
    "\n",
    "The https://365datascience.com/courses/ page frequently transitions to the main page (https://365datascience.com/) with 72,227 interactions. This could indicate users exploring course offerings and returning to the homepage.\n",
    "Redirect Patterns:\n",
    "\n",
    "Redirects, such as https://365datascience.com/login/?redirectUrl=, show a notable amount of traffic (59,574 interactions). This highlights the importance of analyzing redirection flows in the user journey.\n",
    "Cross-Domain Traffic:\n",
    "\n",
    "There is notable interaction between https://365financialanalyst.com/login/ and https://365datascience.com/login/ (49,234 events), indicating integration between platforms."
   ]
  },
  {
   "cell_type": "code",
   "execution_count": 13,
   "metadata": {},
   "outputs": [
    {
     "name": "stderr",
     "output_type": "stream",
     "text": [
      "C:\\Users\\nurec\\AppData\\Local\\Temp\\ipykernel_6616\\2337883420.py:7: UserWarning: pandas only supports SQLAlchemy connectable (engine/connection) or database string URI or sqlite3 DBAPI2 connection. Other DBAPI2 objects are not tested. Please consider using SQLAlchemy.\n",
      "  df = pd.read_sql(query, connection)\n"
     ]
    },
    {
     "name": "stdout",
     "output_type": "stream",
     "text": [
      "   total_visitors  total_users\n",
      "0          245562       151759\n"
     ]
    }
   ],
   "source": [
    "query = \"\"\"\n",
    "SELECT \n",
    "    COUNT(*) AS total_visitors,\n",
    "    COUNT(user_id) AS total_users\n",
    "FROM front_visitors;\n",
    "\"\"\"\n",
    "df = pd.read_sql(query, connection)\n",
    "print(df)\n"
   ]
  },
  {
   "cell_type": "markdown",
   "metadata": {},
   "source": [
    "### Purpose\n",
    "\n",
    "This query calculates the total number of visitors and the total number of users in the front_visitors table:\n",
    "\n",
    "Total Visitors: Represents all records in the table (COUNT(*)).\n",
    "Total Users: Represents the count of non-NULL user_id values, as only visitors who created accounts are assigned a user_id.\n",
    "\n",
    "\n",
    "### Key Insights\n",
    "Visitor to User Conversion:\n",
    "\n",
    "Out of 245,562 visitors, 151,759 created user accounts.\n",
    "Conversion Rate: \n",
    "151\n",
    ",\n",
    "759\n",
    "245\n",
    ",\n",
    "562\n",
    "×\n",
    "100\n",
    "≈\n",
    "61.8\n",
    "%\n",
    "245,562\n",
    "151,759\n",
    "​\n",
    " ×100≈61.8%\n",
    "This suggests that approximately 61.8% of visitors convert into registered users.\n",
    "Non-User Visitors:\n",
    "\n",
    "### The remaining \n",
    "245, 562 −151, 759 = 93, 803\n",
    "245, 562−151, 759=93, 803 visitors did not create user accounts, representing about 38.2% of the total visitors.\n",
    "Potential Analysis:\n",
    "\n",
    "Investigate the behavior of visitors who didn’t convert to users to identify potential barriers in the user journey.\n",
    "Focus on improving pages or interactions where drop-offs occur."
   ]
  },
  {
   "cell_type": "code",
   "execution_count": 14,
   "metadata": {},
   "outputs": [
    {
     "name": "stderr",
     "output_type": "stream",
     "text": [
      "C:\\Users\\nurec\\AppData\\Local\\Temp\\ipykernel_6616\\2760915703.py:6: UserWarning: pandas only supports SQLAlchemy connectable (engine/connection) or database string URI or sqlite3 DBAPI2 connection. Other DBAPI2 objects are not tested. Please consider using SQLAlchemy.\n",
      "  df = pd.read_sql(query, connection)\n"
     ]
    },
    {
     "name": "stdout",
     "output_type": "stream",
     "text": [
      "   visitors_without_users\n",
      "0                   93803\n"
     ]
    }
   ],
   "source": [
    "query = \"\"\"\n",
    "SELECT COUNT(*) AS visitors_without_users\n",
    "FROM front_visitors\n",
    "WHERE user_id IS NULL;\n",
    "\"\"\"\n",
    "df = pd.read_sql(query, connection)\n",
    "print(df)\n"
   ]
  },
  {
   "cell_type": "markdown",
   "metadata": {},
   "source": [
    "### Purpose\n",
    "This query calculates the number of visitors who did not create a user account. In the front_visitors table, visitors who have not registered are indicated by a NULL value in the user_id column. Counting these NULL values provides insights into the portion of visitors who visited the website but didn’t convert into registered users.\n",
    "\n",
    "### Key Insights\n",
    "Non-Converting Visitors:\n",
    "\n",
    "Out of the total 245,562 visitors, 93,803 did not create user accounts.\n",
    "This represents approximately 38.2% of the visitors, meaning a significant portion of users are not converting to registered users.\n",
    "Potential Focus Area:\n",
    "\n",
    "Investigate the behavior of these non-converting visitors by analyzing their interactions in the front_interactions table.\n",
    "Identify possible barriers in the user journey, such as confusing UI, lengthy signup forms, or lack of incentive to register."
   ]
  },
  {
   "cell_type": "markdown",
   "metadata": {},
   "source": [
    "## student purchases"
   ]
  },
  {
   "cell_type": "code",
   "execution_count": 15,
   "metadata": {},
   "outputs": [
    {
     "name": "stdout",
     "output_type": "stream",
     "text": [
      "   total_purchases\n",
      "0             3503\n"
     ]
    },
    {
     "name": "stderr",
     "output_type": "stream",
     "text": [
      "C:\\Users\\nurec\\AppData\\Local\\Temp\\ipykernel_6616\\2565240504.py:2: UserWarning: pandas only supports SQLAlchemy connectable (engine/connection) or database string URI or sqlite3 DBAPI2 connection. Other DBAPI2 objects are not tested. Please consider using SQLAlchemy.\n",
      "  df = pd.read_sql(query, connection)\n"
     ]
    }
   ],
   "source": [
    "query = \"SELECT COUNT(*) AS total_purchases FROM student_purchases;\"\n",
    "df = pd.read_sql(query, connection)\n",
    "print(df)\n"
   ]
  },
  {
   "cell_type": "markdown",
   "metadata": {},
   "source": [
    "### Purpose\n",
    "This query calculates the total number of purchases recorded in the student_purchases table. Each record in this table represents a purchase made by a user, including initial purchases and recurring payments for subscriptions.\n",
    "\n",
    "### Key Insights\n",
    "Total Purchases:\n",
    "\n",
    "The dataset contains 3,503 total purchases made by users.\n",
    "This includes all purchase types (e.g., monthly, quarterly, and annual subscriptions).\n",
    "\n",
    "### Potential for Analysis:\n",
    "\n",
    "Understanding the breakdown of purchase types (purchase_type) and trends over time can provide deeper insights into user purchasing behavior.\n",
    "Investigating the purchase_price can help analyze the revenue generated and identify test users who made purchases at $0."
   ]
  },
  {
   "cell_type": "code",
   "execution_count": 16,
   "metadata": {},
   "outputs": [
    {
     "name": "stdout",
     "output_type": "stream",
     "text": [
      "   purchase_type  count\n",
      "0              2   1909\n",
      "1              1    106\n",
      "2              0   1488\n"
     ]
    },
    {
     "name": "stderr",
     "output_type": "stream",
     "text": [
      "C:\\Users\\nurec\\AppData\\Local\\Temp\\ipykernel_6616\\1557914434.py:6: UserWarning: pandas only supports SQLAlchemy connectable (engine/connection) or database string URI or sqlite3 DBAPI2 connection. Other DBAPI2 objects are not tested. Please consider using SQLAlchemy.\n",
      "  df = pd.read_sql(query, connection)\n"
     ]
    }
   ],
   "source": [
    "query = \"\"\"\n",
    "SELECT purchase_type, COUNT(*) AS count\n",
    "FROM student_purchases\n",
    "GROUP BY purchase_type;\n",
    "\"\"\"\n",
    "df = pd.read_sql(query, connection)\n",
    "print(df)\n"
   ]
  },
  {
   "cell_type": "markdown",
   "metadata": {},
   "source": [
    "### Purpose\n",
    "This query provides a breakdown of the number of purchases by purchase_type in the student_purchases table. The purchase_type column categorizes purchases into different subscription types:\n",
    "\n",
    "0: Monthly\n",
    "1: Quarterly\n",
    "2: Annual\n",
    "##### By grouping the data by purchase_type, the query counts the number of purchases for each category.\n",
    "\n",
    "\n",
    "\n",
    "### Key Insights\n",
    "Annual Subscriptions (Type 2):\n",
    "\n",
    "Annual subscriptions are the most popular, with 1,909 purchases, accounting for approximately 54.5% of all purchases.\n",
    "Monthly Subscriptions (Type 0):\n",
    "\n",
    "Monthly subscriptions are the second most popular, with 1,488 purchases (~42.5%).\n",
    "Quarterly Subscriptions (Type 1):\n",
    "\n",
    "Quarterly subscriptions are the least popular, with only 106 purchases, representing a small portion (~3%).\n",
    "Potential User Preferences:\n",
    "\n",
    "Users seem to prefer longer-term plans (annual) over shorter-term plans (monthly or quarterly), which could indicate a willingness to commit to the service for extended periods."
   ]
  },
  {
   "cell_type": "code",
   "execution_count": 17,
   "metadata": {},
   "outputs": [
    {
     "name": "stdout",
     "output_type": "stream",
     "text": [
      "   test_users\n",
      "0           5\n"
     ]
    },
    {
     "name": "stderr",
     "output_type": "stream",
     "text": [
      "C:\\Users\\nurec\\AppData\\Local\\Temp\\ipykernel_6616\\2104281557.py:2: UserWarning: pandas only supports SQLAlchemy connectable (engine/connection) or database string URI or sqlite3 DBAPI2 connection. Other DBAPI2 objects are not tested. Please consider using SQLAlchemy.\n",
      "  df = pd.read_sql(query, connection)\n"
     ]
    }
   ],
   "source": [
    "query = \"SELECT COUNT(*) AS test_users FROM student_purchases WHERE purchase_price = 0;\"\n",
    "df = pd.read_sql(query, connection)\n",
    "print(df)\n"
   ]
  },
  {
   "cell_type": "markdown",
   "metadata": {},
   "source": [
    "### Purpose\n",
    "This query identifies the number of test users in the student_purchases table. Test users are defined as those who have made purchases at a price of $0, which is a common practice for testing purposes in systems.\n",
    "\n",
    "\n",
    "### Key Insights\n",
    "Number of Test Users:\n",
    "\n",
    "The dataset includes 5 test users who have made purchases with a price of $0.\n",
    "These records should be excluded from further revenue or user behavior analysis to ensure data accuracy.\n",
    "Impact on Analysis:\n",
    "\n",
    "Test users may skew revenue metrics and purchasing behavior analysis if not removed.\n",
    "Identifying and excluding these users ensures cleaner data and more accurate insights."
   ]
  },
  {
   "cell_type": "code",
   "execution_count": 19,
   "metadata": {},
   "outputs": [
    {
     "name": "stdout",
     "output_type": "stream",
     "text": [
      "   max_price  min_price  avg_price\n",
      "0      348.0        0.0  84.851116\n"
     ]
    },
    {
     "name": "stderr",
     "output_type": "stream",
     "text": [
      "C:\\Users\\nurec\\AppData\\Local\\Temp\\ipykernel_6616\\3789358770.py:8: UserWarning: pandas only supports SQLAlchemy connectable (engine/connection) or database string URI or sqlite3 DBAPI2 connection. Other DBAPI2 objects are not tested. Please consider using SQLAlchemy.\n",
      "  df = pd.read_sql(query, connection)\n"
     ]
    }
   ],
   "source": [
    "query = \"\"\"\n",
    "SELECT \n",
    "    MAX(purchase_price) AS max_price,\n",
    "    MIN(purchase_price) AS min_price,\n",
    "    AVG(purchase_price) AS avg_price\n",
    "FROM student_purchases;\n",
    "\"\"\"\n",
    "df = pd.read_sql(query, connection)\n",
    "print(df)\n"
   ]
  },
  {
   "cell_type": "markdown",
   "metadata": {},
   "source": [
    "### Purpose\n",
    "This query calculates key statistics about purchase prices in the student_purchases table:\n",
    "\n",
    "Maximum Purchase Price (MAX): The highest price paid for a purchase.\n",
    "Minimum Purchase Price (MIN): The lowest price paid for a purchase.\n",
    "Average Purchase Price (AVG): The average price paid across all purchases.\n",
    "\n",
    "\n",
    "\n",
    "### Key Insights\n",
    "Maximum Purchase Price:\n",
    "\n",
    "The highest price paid for a subscription is **$348.00.** This likely represents an annual subscription or a premium plan.\n",
    "Minimum Purchase Price:\n",
    "\n",
    "The lowest price is $0.00, which corresponds to the test users identified in a previous query.\n",
    "Average Purchase Price:\n",
    "\n",
    "The average purchase price across all transactions is approximately $84.85. This value reflects the mix of subscription types (monthly, quarterly, annual) and the test user transactions."
   ]
  },
  {
   "cell_type": "code",
   "execution_count": 21,
   "metadata": {},
   "outputs": [
    {
     "name": "stdout",
     "output_type": "stream",
     "text": [
      "   max_price  min_price  avg_price\n",
      "0      348.0       1.16  84.972401\n"
     ]
    },
    {
     "name": "stderr",
     "output_type": "stream",
     "text": [
      "C:\\Users\\nurec\\AppData\\Local\\Temp\\ipykernel_6616\\827945178.py:9: UserWarning: pandas only supports SQLAlchemy connectable (engine/connection) or database string URI or sqlite3 DBAPI2 connection. Other DBAPI2 objects are not tested. Please consider using SQLAlchemy.\n",
      "  df = pd.read_sql(query,connection)\n"
     ]
    }
   ],
   "source": [
    "query = \"\"\"SELECT \n",
    "    MAX(purchase_price) AS max_price,\n",
    "    MIN(purchase_price) AS min_price,\n",
    "    AVG(purchase_price) AS avg_price\n",
    "FROM student_purchases\n",
    "WHERE purchase_price > 0;\n",
    "\"\"\"\n",
    "\n",
    "df = pd.read_sql(query,connection)\n",
    "print(df)"
   ]
  },
  {
   "cell_type": "markdown",
   "metadata": {},
   "source": [
    "### Purpose\n",
    "This query recalculates the purchase price statistics, excluding test users (where purchase_price = 0). The focus is on meaningful data from actual paying users:\n",
    "\n",
    "##### Maximum Purchase Price (MAX): The highest price paid.\n",
    "##### Minimum Purchase Price (MIN): The lowest price paid (excluding $0).\n",
    "##### Average Purchase Price (AVG): The average price paid by real users."
   ]
  },
  {
   "cell_type": "code",
   "execution_count": 22,
   "metadata": {},
   "outputs": [
    {
     "name": "stdout",
     "output_type": "stream",
     "text": [
      "   purchase_type  max_price  min_price   avg_price\n",
      "0              2     348.00       0.00  129.791624\n",
      "1              1     118.51       0.00   74.133774\n",
      "2              0      45.72       6.08   27.959052\n"
     ]
    },
    {
     "name": "stderr",
     "output_type": "stream",
     "text": [
      "C:\\Users\\nurec\\AppData\\Local\\Temp\\ipykernel_6616\\1408460327.py:11: UserWarning: pandas only supports SQLAlchemy connectable (engine/connection) or database string URI or sqlite3 DBAPI2 connection. Other DBAPI2 objects are not tested. Please consider using SQLAlchemy.\n",
      "  df = pd.read_sql(query,connection)\n"
     ]
    }
   ],
   "source": [
    "query = \"\"\"SELECT \n",
    "    purchase_type,\n",
    "    MAX(purchase_price) AS max_price,\n",
    "    MIN(purchase_price) AS min_price,\n",
    "    AVG(purchase_price) AS avg_price\n",
    "FROM student_purchases\n",
    "GROUP BY purchase_type;\n",
    "\n",
    "\"\"\"\n",
    "\n",
    "df = pd.read_sql(query,connection)\n",
    "print(df)"
   ]
  },
  {
   "cell_type": "code",
   "execution_count": 23,
   "metadata": {},
   "outputs": [
    {
     "name": "stdout",
     "output_type": "stream",
     "text": [
      "   total_revenue\n",
      "0      297233.46\n"
     ]
    },
    {
     "name": "stderr",
     "output_type": "stream",
     "text": [
      "C:\\Users\\nurec\\AppData\\Local\\Temp\\ipykernel_6616\\87190217.py:8: UserWarning: pandas only supports SQLAlchemy connectable (engine/connection) or database string URI or sqlite3 DBAPI2 connection. Other DBAPI2 objects are not tested. Please consider using SQLAlchemy.\n",
      "  df = pd.read_sql(query,connection)\n"
     ]
    }
   ],
   "source": [
    "query = \"\"\"SELECT SUM(purchase_price) AS total_revenue\n",
    "FROM student_purchases\n",
    "WHERE purchase_price > 0;\n",
    "\n",
    "\n",
    "\"\"\"\n",
    "\n",
    "df = pd.read_sql(query,connection)\n",
    "print(df)"
   ]
  },
  {
   "cell_type": "markdown",
   "metadata": {},
   "source": [
    "### Purpose\n",
    "This query calculates the total revenue generated from all purchases made by real users. By excluding purchases with a price of $0 (test users), the calculation reflects only meaningful revenue.\n",
    "\n",
    "### Key Insights\n",
    "#### total Revenue:\n",
    "\n",
    "##### The total revenue generated by paying users is approximately **$297,233.46.**\n",
    "This value reflects the cumulative amount paid across all subscription types (monthly, quarterly, annual).\n",
    "Implications for Business:\n",
    "\n",
    "This figure provides a snapshot of the platform's financial performance.\n",
    "It can serve as a baseline for analyzing revenue trends over time or comparing the revenue contribution of different subscription types.\n"
   ]
  }
 ],
 "metadata": {
  "kernelspec": {
   "display_name": "Python 3",
   "language": "python",
   "name": "python3"
  },
  "language_info": {
   "codemirror_mode": {
    "name": "ipython",
    "version": 3
   },
   "file_extension": ".py",
   "mimetype": "text/x-python",
   "name": "python",
   "nbconvert_exporter": "python",
   "pygments_lexer": "ipython3",
   "version": "3.12.3"
  }
 },
 "nbformat": 4,
 "nbformat_minor": 2
}
